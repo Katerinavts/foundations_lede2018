{
 "cells": [
  {
   "cell_type": "code",
   "execution_count": 2,
   "metadata": {},
   "outputs": [],
   "source": [
    "import requests"
   ]
  },
  {
   "cell_type": "code",
   "execution_count": 25,
   "metadata": {},
   "outputs": [
    {
     "data": {
      "text/plain": [
       "<Response [200]>"
      ]
     },
     "execution_count": 25,
     "metadata": {},
     "output_type": "execute_result"
    }
   ],
   "source": [
    "url = \"https://api.darksky.net/forecast/774ea94cf1327518daefd039a796df62/40.7128,-74.0060\"\n",
    "response = requests.get(url)\n",
    "response"
   ]
  },
  {
   "cell_type": "code",
   "execution_count": 26,
   "metadata": {},
   "outputs": [],
   "source": [
    "data = response.json()"
   ]
  },
  {
   "cell_type": "code",
   "execution_count": null,
   "metadata": {},
   "outputs": [],
   "source": [
    "data.keys()\n",
    "data "
   ]
  },
  {
   "cell_type": "code",
   "execution_count": 48,
   "metadata": {},
   "outputs": [
    {
     "data": {
      "text/plain": [
       "dict_keys(['time', 'summary', 'icon', 'sunriseTime', 'sunsetTime', 'moonPhase', 'precipIntensity', 'precipIntensityMax', 'precipIntensityMaxTime', 'precipProbability', 'precipType', 'temperatureHigh', 'temperatureHighTime', 'temperatureLow', 'temperatureLowTime', 'apparentTemperatureHigh', 'apparentTemperatureHighTime', 'apparentTemperatureLow', 'apparentTemperatureLowTime', 'dewPoint', 'humidity', 'pressure', 'windSpeed', 'windGust', 'windGustTime', 'windBearing', 'cloudCover', 'uvIndex', 'uvIndexTime', 'visibility', 'ozone', 'temperatureMin', 'temperatureMinTime', 'temperatureMax', 'temperatureMaxTime', 'apparentTemperatureMin', 'apparentTemperatureMinTime', 'apparentTemperatureMax', 'apparentTemperatureMaxTime'])"
      ]
     },
     "execution_count": 48,
     "metadata": {},
     "output_type": "execute_result"
    }
   ],
   "source": [
    "daily_forecasts[0].keys()"
   ]
  },
  {
   "cell_type": "code",
   "execution_count": 67,
   "metadata": {},
   "outputs": [
    {
     "name": "stdout",
     "output_type": "stream",
     "text": [
      "Right now it is 70.81 degrees out and Partly Cloudy\n",
      "Today will be 87.89 with a high of 87.89 and a low of 66\n",
      "----------------------\n",
      "It is going to be hot out!\n"
     ]
    }
   ],
   "source": [
    "temperature = []\n",
    "\n",
    "print(\"Right now it is\", data['currently']['temperature'], \"degrees out and\", data['currently']['summary'])\n",
    "\n",
    "daily_forecasts = data['daily']['data']\n",
    "temp = day['temperatureMax']\n",
    "temp2 = day['temperatureMin']\n",
    "temp_feel = day['apparentTemperatureHigh']\n",
    "\n",
    "print(\"Today will be\", temp_feel, \"with a high of\", temp, \"and a low of\", temp2)\n",
    "print ('----------------------')\n",
    "\n",
    "if temp > 85:\n",
    "        print(\"It is going to be hot out!\")\n",
    "elif temp > 65:\n",
    "        print(\"It is going to be warm out.\")\n",
    "else:\n",
    "        print(\"It is going to be cold out.\")\n",
    "rain = day['precipProbability']  \n",
    "if rain > 0:\n",
    "        print(\"It is rainy today! Bring your umbrela\")"
   ]
  },
  {
   "cell_type": "code",
   "execution_count": null,
   "metadata": {},
   "outputs": [],
   "source": [
    "import datetime\n",
    "right_now = daytime.datetime.now()\n",
    "date_string = right_now.strftime(\"%Y-%M\")"
   ]
  },
  {
   "cell_type": "code",
   "execution_count": null,
   "metadata": {},
   "outputs": [],
   "source": []
  }
 ],
 "metadata": {
  "kernelspec": {
   "display_name": "Python 3",
   "language": "python",
   "name": "python3"
  },
  "language_info": {
   "codemirror_mode": {
    "name": "ipython",
    "version": 3
   },
   "file_extension": ".py",
   "mimetype": "text/x-python",
   "name": "python",
   "nbconvert_exporter": "python",
   "pygments_lexer": "ipython3",
   "version": "3.6.5"
  }
 },
 "nbformat": 4,
 "nbformat_minor": 2
}
