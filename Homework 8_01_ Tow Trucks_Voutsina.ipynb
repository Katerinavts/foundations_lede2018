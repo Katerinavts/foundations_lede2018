{
 "cells": [
  {
   "cell_type": "markdown",
   "metadata": {},
   "source": [
    "# Texas Tow Trucks\n",
    "\n",
    "We're going to scrape some [tow trucks in Texas](https://www.tdlr.texas.gov/tools_search/)."
   ]
  },
  {
   "cell_type": "markdown",
   "metadata": {},
   "source": [
    "## Import your imports"
   ]
  },
  {
   "cell_type": "code",
   "execution_count": 256,
   "metadata": {},
   "outputs": [],
   "source": [
    "from selenium import webdriver\n",
    "from selenium.webdriver.common.keys import Keys\n",
    "from selenium.webdriver.support.ui import Select\n",
    "from selenium.webdriver.support.ui import WebDriverWait"
   ]
  },
  {
   "cell_type": "code",
   "execution_count": 257,
   "metadata": {},
   "outputs": [],
   "source": [
    "driver = webdriver.Chrome()"
   ]
  },
  {
   "cell_type": "code",
   "execution_count": 258,
   "metadata": {},
   "outputs": [],
   "source": [
    "driver.get('https://www.tdlr.texas.gov/tools_search/')"
   ]
  },
  {
   "cell_type": "markdown",
   "metadata": {},
   "source": [
    "## Search for the TLDR Number `006179570C`, and scrape the information on that company\n",
    "\n",
    "Using [license information system](https://www.tdlr.texas.gov/tools_search/), find information about the tow truck number above, displaying the\n",
    "\n",
    "- The business name\n",
    "- Owner/operator\n",
    "- Phone number\n",
    "- License status (Active, Expired, Etc)\n",
    "- Physical address\n",
    "\n",
    "If you can't figure a 'nice' way to locate something, your two last options might be:\n",
    "\n",
    "- **Find a \"parent\" element, then dig inside**\n",
    "- **Find all of a type of element** (like we did with `td` before) and get the `[0]`, `[1]`, `[2]`, etc\n",
    "- **XPath** (inspect an element, Copy > Copy XPath)\n",
    "\n",
    "These kinds of techniques tend to break when you're on other result pages, but... maybe not! You won't know until you try.\n",
    "\n",
    "> - *TIP: When you use xpath, you CANNOT use double quotes or Python will get confused. Use single quotes.*\n",
    "> - *TIP: You can clean your data up if you want to, or leave it dirty to clean later*\n",
    "> - *TIP: The address part can be tough, but you have a few options. You can use a combination of `.split` and list slicing to clean it now, or clean it later in the dataframe with regular expressions. Or other options, too, probably*"
   ]
  },
  {
   "cell_type": "code",
   "execution_count": 259,
   "metadata": {},
   "outputs": [],
   "source": [
    "input_box = driver.find_element_by_name(\"mcrdata\")"
   ]
  },
  {
   "cell_type": "code",
   "execution_count": 260,
   "metadata": {},
   "outputs": [],
   "source": [
    "input_box.send_keys(\"006179570C\")"
   ]
  },
  {
   "cell_type": "code",
   "execution_count": 261,
   "metadata": {},
   "outputs": [],
   "source": [
    "button = driver.find_element_by_xpath('//*[@id=\"submit3\"]')\n",
    "driver.execute_script(\"arguments[0].scrollIntoView(true)\", button)\n",
    "button.click()"
   ]
  },
  {
   "cell_type": "code",
   "execution_count": null,
   "metadata": {},
   "outputs": [],
   "source": [
    "contractors = driver.find_elements_by_tag_name('tr')\n",
    "\n",
    "for contractor in contractors:"
   ]
  },
  {
   "cell_type": "code",
   "execution_count": 115,
   "metadata": {},
   "outputs": [],
   "source": [
    "owner_name = contractors[5].find_elements_by_tag_name('td')[0].text"
   ]
  },
  {
   "cell_type": "code",
   "execution_count": null,
   "metadata": {},
   "outputs": [],
   "source": [
    "cont_name = contractors[4].find_elements_by_tag_name('td')[0].text"
   ]
  },
  {
   "cell_type": "code",
   "execution_count": 116,
   "metadata": {},
   "outputs": [],
   "source": [
    "phone_name = contractors[6].find_elements_by_tag_name('td')[0].text"
   ]
  },
  {
   "cell_type": "code",
   "execution_count": 117,
   "metadata": {},
   "outputs": [],
   "source": [
    "status_status = contractors[7].find_elements_by_tag_name('td')[1].text"
   ]
  },
  {
   "cell_type": "code",
   "execution_count": 130,
   "metadata": {},
   "outputs": [],
   "source": [
    "address_address = contractors[8].find_elements_by_tag_name('td')[1].text.split(\"\\n\")[-6:7]"
   ]
  },
  {
   "cell_type": "markdown",
   "metadata": {},
   "source": [
    "# Adapt this to work inside of a single cell\n",
    "\n",
    "Double-check that it works. You want it to print out all of the details."
   ]
  },
  {
   "cell_type": "code",
   "execution_count": 263,
   "metadata": {},
   "outputs": [],
   "source": [
    "def get_towtr_info(row):\n",
    "    \n",
    "    driver.get(\"https://www.tdlr.texas.gov/tools_search/mccs_display.asp?mcrnumber=\" + row['TDLR Number'])\n",
    "\n",
    "    contractors = driver.find_elements_by_tag_name('tr')\n",
    "    \n",
    "    for contractor in contractors:\n",
    "\n",
    "        cont_name = contractors[4].find_elements_by_tag_name('td')[0].text\n",
    "        owner_name = contractors[5].find_elements_by_tag_name('td')[0].text\n",
    "        phone_name = contractors[6].find_elements_by_tag_name('td')[0].text\n",
    "        status_status = contractors[7].find_elements_by_tag_name('td')[1].text\n",
    "        address_address = contractors[8].find_elements_by_tag_name('td')[1].text.split(\"\\n\")[-6:7]\n",
    "\n",
    "    return pd.Series({\n",
    "        'name': cont_name,\n",
    "        'owner': owner_name,\n",
    "        'status': status_status,\n",
    "        'address': address_address,\n",
    "        'phone': phone_name\n",
    "        \n",
    "    })"
   ]
  },
  {
   "cell_type": "markdown",
   "metadata": {},
   "source": [
    "### Using .apply to find data about SEVERAL tow truck companies\n",
    "\n",
    "The file `trucks-subset.csv` has information about the trucks, we'll use it to find the pages to scrape.\n",
    "\n",
    "### Open up `trucks-subset.csv` and save it into a dataframe"
   ]
  },
  {
   "cell_type": "code",
   "execution_count": 264,
   "metadata": {},
   "outputs": [
    {
     "data": {
      "text/html": [
       "<div>\n",
       "<style scoped>\n",
       "    .dataframe tbody tr th:only-of-type {\n",
       "        vertical-align: middle;\n",
       "    }\n",
       "\n",
       "    .dataframe tbody tr th {\n",
       "        vertical-align: top;\n",
       "    }\n",
       "\n",
       "    .dataframe thead th {\n",
       "        text-align: right;\n",
       "    }\n",
       "</style>\n",
       "<table border=\"1\" class=\"dataframe\">\n",
       "  <thead>\n",
       "    <tr style=\"text-align: right;\">\n",
       "      <th></th>\n",
       "      <th>TDLR Number</th>\n",
       "    </tr>\n",
       "  </thead>\n",
       "  <tbody>\n",
       "    <tr>\n",
       "      <th>0</th>\n",
       "      <td>006507931C</td>\n",
       "    </tr>\n",
       "    <tr>\n",
       "      <th>1</th>\n",
       "      <td>006179570C</td>\n",
       "    </tr>\n",
       "    <tr>\n",
       "      <th>2</th>\n",
       "      <td>006502097C</td>\n",
       "    </tr>\n",
       "  </tbody>\n",
       "</table>\n",
       "</div>"
      ],
      "text/plain": [
       "  TDLR Number\n",
       "0  006507931C\n",
       "1  006179570C\n",
       "2  006502097C"
      ]
     },
     "execution_count": 264,
     "metadata": {},
     "output_type": "execute_result"
    }
   ],
   "source": [
    "import pandas as pd\n",
    "\n",
    "df1 = pd.read_csv(\"trucks-subset.csv\")\n",
    "df1.head()"
   ]
  },
  {
   "cell_type": "code",
   "execution_count": 185,
   "metadata": {},
   "outputs": [],
   "source": [
    "driver = webdriver.Chrome()"
   ]
  },
  {
   "cell_type": "code",
   "execution_count": 265,
   "metadata": {},
   "outputs": [
    {
     "data": {
      "text/html": [
       "<div>\n",
       "<style scoped>\n",
       "    .dataframe tbody tr th:only-of-type {\n",
       "        vertical-align: middle;\n",
       "    }\n",
       "\n",
       "    .dataframe tbody tr th {\n",
       "        vertical-align: top;\n",
       "    }\n",
       "\n",
       "    .dataframe thead th {\n",
       "        text-align: right;\n",
       "    }\n",
       "</style>\n",
       "<table border=\"1\" class=\"dataframe\">\n",
       "  <thead>\n",
       "    <tr style=\"text-align: right;\">\n",
       "      <th></th>\n",
       "      <th>name</th>\n",
       "      <th>owner</th>\n",
       "      <th>status</th>\n",
       "      <th>address</th>\n",
       "      <th>phone</th>\n",
       "      <th>TDLR Number</th>\n",
       "    </tr>\n",
       "  </thead>\n",
       "  <tbody>\n",
       "    <tr>\n",
       "      <th>0</th>\n",
       "      <td>Name:   AUGUSTUS E SMITH</td>\n",
       "      <td>Owner/Officer:   AUGUSTUS EUGENE SMITH / OWNER</td>\n",
       "      <td>Status:  Active</td>\n",
       "      <td>[1617 COUNTY ROAD 4130, BONHAM, TX. 75418]</td>\n",
       "      <td>Phone:   9032276464</td>\n",
       "      <td>006507931C</td>\n",
       "    </tr>\n",
       "    <tr>\n",
       "      <th>1</th>\n",
       "      <td>Name:   B.D. SMITH TOWING</td>\n",
       "      <td>Owner/Officer:   BRANDT SMITH / OWNER</td>\n",
       "      <td>Status:  Expired</td>\n",
       "      <td>[13619 BRETT JACKSON RD, FORT WORTH, TX. 76179]</td>\n",
       "      <td>Phone:   8173330706</td>\n",
       "      <td>006179570C</td>\n",
       "    </tr>\n",
       "    <tr>\n",
       "      <th>2</th>\n",
       "      <td>Name:   BARRY MICHAEL SMITH</td>\n",
       "      <td>Owner/Officer:   BARRY MICHAEL SMITH / OWNER</td>\n",
       "      <td>Status:  Active</td>\n",
       "      <td>[4501 W CEMETERY RD, CANYON, TX. 79015]</td>\n",
       "      <td>Phone:   8066544404</td>\n",
       "      <td>006502097C</td>\n",
       "    </tr>\n",
       "  </tbody>\n",
       "</table>\n",
       "</div>"
      ],
      "text/plain": [
       "                          name  \\\n",
       "0  Name:   AUGUSTUS E SMITH      \n",
       "1  Name:   B.D. SMITH TOWING     \n",
       "2  Name:   BARRY MICHAEL SMITH   \n",
       "\n",
       "                                            owner            status  \\\n",
       "0  Owner/Officer:   AUGUSTUS EUGENE SMITH / OWNER  Status:  Active    \n",
       "1  Owner/Officer:   BRANDT SMITH / OWNER           Status:  Expired   \n",
       "2  Owner/Officer:   BARRY MICHAEL SMITH / OWNER    Status:  Active    \n",
       "\n",
       "                                           address                phone  \\\n",
       "0  [1617 COUNTY ROAD 4130, BONHAM, TX. 75418]       Phone:   9032276464   \n",
       "1  [13619 BRETT JACKSON RD, FORT WORTH, TX. 76179]  Phone:   8173330706   \n",
       "2  [4501 W CEMETERY RD, CANYON, TX. 79015]          Phone:   8066544404   \n",
       "\n",
       "  TDLR Number  \n",
       "0  006507931C  \n",
       "1  006179570C  \n",
       "2  006502097C  "
      ]
     },
     "execution_count": 265,
     "metadata": {},
     "output_type": "execute_result"
    }
   ],
   "source": [
    "new_df = df1.apply(get_towtr_info, axis=1).join(df1)\n",
    "new_df.head()"
   ]
  },
  {
   "cell_type": "markdown",
   "metadata": {},
   "source": [
    "## Go through each row of the dataset, displaying the URL you will need to scrape for the information on that row\n",
    "\n",
    "You don't have to actually use the search form for each of these - look at the URL you're on, it has the number in it!\n",
    "\n",
    "For example, one URL might look like `https://www.tdlr.texas.gov/tools_search/mccs_display.asp?mcrnumber=006495492C`.\n",
    "\n",
    "- *TIP: Use .apply and a function*\n",
    "- *TIP: Unlike the Yelp example, you'll need to build this URL from pieces*\n",
    "- *TIP: You probably don't want to `print` unless you're going to fix it for the next question \n",
    "- *TIP: pandas won't showing you the entire url! Run `pd.set_option('display.max_colwidth', -1)` to display aaaalll of the text in a cell*"
   ]
  },
  {
   "cell_type": "code",
   "execution_count": null,
   "metadata": {},
   "outputs": [],
   "source": []
  },
  {
   "cell_type": "markdown",
   "metadata": {},
   "source": [
    "### Save this URL into a new column of your dataframe, called `url`\n",
    "\n",
    "- *TIP: Use a function and `.apply`*\n",
    "- *TIP: Be sure to use `return`*"
   ]
  },
  {
   "cell_type": "code",
   "execution_count": 266,
   "metadata": {},
   "outputs": [],
   "source": [
    "def add_url(row):\n",
    "\n",
    "    contractors = driver.find_elements_by_tag_name('tr')\n",
    "    \n",
    "    for contractor in contractors:\n",
    "\n",
    "        cont_name = contractors[4].find_elements_by_tag_name('td')[0].text\n",
    "        owner_name = contractors[5].find_elements_by_tag_name('td')[0].text\n",
    "        phone_name = contractors[6].find_elements_by_tag_name('td')[0].text\n",
    "        status_status = contractors[7].find_elements_by_tag_name('td')[1].text\n",
    "        address_address = contractors[8].find_elements_by_tag_name('td')[1].text.split(\"\\n\")[-6:7]\n",
    "        url = str(\"https://www.tdlr.texas.gov/tools_search/mccs_display.asp?mcrnumber=\" + row['TDLR Number'])\n",
    "    \n",
    "    return pd.Series({\n",
    "        'name1': cont_name,\n",
    "        'owner1': owner_name,\n",
    "        'status1': status_status,\n",
    "        'address1': address_address,\n",
    "        'phone1': phone_name,\n",
    "        'url1': url})"
   ]
  },
  {
   "cell_type": "code",
   "execution_count": 267,
   "metadata": {},
   "outputs": [
    {
     "data": {
      "text/html": [
       "<div>\n",
       "<style scoped>\n",
       "    .dataframe tbody tr th:only-of-type {\n",
       "        vertical-align: middle;\n",
       "    }\n",
       "\n",
       "    .dataframe tbody tr th {\n",
       "        vertical-align: top;\n",
       "    }\n",
       "\n",
       "    .dataframe thead th {\n",
       "        text-align: right;\n",
       "    }\n",
       "</style>\n",
       "<table border=\"1\" class=\"dataframe\">\n",
       "  <thead>\n",
       "    <tr style=\"text-align: right;\">\n",
       "      <th></th>\n",
       "      <th>name1</th>\n",
       "      <th>owner1</th>\n",
       "      <th>status1</th>\n",
       "      <th>address1</th>\n",
       "      <th>phone1</th>\n",
       "      <th>url1</th>\n",
       "      <th>name</th>\n",
       "      <th>owner</th>\n",
       "      <th>status</th>\n",
       "      <th>address</th>\n",
       "      <th>phone</th>\n",
       "      <th>TDLR Number</th>\n",
       "    </tr>\n",
       "  </thead>\n",
       "  <tbody>\n",
       "    <tr>\n",
       "      <th>0</th>\n",
       "      <td>Name:   BARRY MICHAEL SMITH</td>\n",
       "      <td>Owner/Officer:   BARRY MICHAEL SMITH / OWNER</td>\n",
       "      <td>Status:  Active</td>\n",
       "      <td>[4501 W CEMETERY RD, CANYON, TX. 79015]</td>\n",
       "      <td>Phone:   8066544404</td>\n",
       "      <td>https://www.tdlr.texas.gov/tools_search/mccs_display.asp?mcrnumber=006507931C</td>\n",
       "      <td>Name:   AUGUSTUS E SMITH</td>\n",
       "      <td>Owner/Officer:   AUGUSTUS EUGENE SMITH / OWNER</td>\n",
       "      <td>Status:  Active</td>\n",
       "      <td>[1617 COUNTY ROAD 4130, BONHAM, TX. 75418]</td>\n",
       "      <td>Phone:   9032276464</td>\n",
       "      <td>006507931C</td>\n",
       "    </tr>\n",
       "    <tr>\n",
       "      <th>1</th>\n",
       "      <td>Name:   BARRY MICHAEL SMITH</td>\n",
       "      <td>Owner/Officer:   BARRY MICHAEL SMITH / OWNER</td>\n",
       "      <td>Status:  Active</td>\n",
       "      <td>[4501 W CEMETERY RD, CANYON, TX. 79015]</td>\n",
       "      <td>Phone:   8066544404</td>\n",
       "      <td>https://www.tdlr.texas.gov/tools_search/mccs_display.asp?mcrnumber=006179570C</td>\n",
       "      <td>Name:   B.D. SMITH TOWING</td>\n",
       "      <td>Owner/Officer:   BRANDT SMITH / OWNER</td>\n",
       "      <td>Status:  Expired</td>\n",
       "      <td>[13619 BRETT JACKSON RD, FORT WORTH, TX. 76179]</td>\n",
       "      <td>Phone:   8173330706</td>\n",
       "      <td>006179570C</td>\n",
       "    </tr>\n",
       "    <tr>\n",
       "      <th>2</th>\n",
       "      <td>Name:   BARRY MICHAEL SMITH</td>\n",
       "      <td>Owner/Officer:   BARRY MICHAEL SMITH / OWNER</td>\n",
       "      <td>Status:  Active</td>\n",
       "      <td>[4501 W CEMETERY RD, CANYON, TX. 79015]</td>\n",
       "      <td>Phone:   8066544404</td>\n",
       "      <td>https://www.tdlr.texas.gov/tools_search/mccs_display.asp?mcrnumber=006502097C</td>\n",
       "      <td>Name:   BARRY MICHAEL SMITH</td>\n",
       "      <td>Owner/Officer:   BARRY MICHAEL SMITH / OWNER</td>\n",
       "      <td>Status:  Active</td>\n",
       "      <td>[4501 W CEMETERY RD, CANYON, TX. 79015]</td>\n",
       "      <td>Phone:   8066544404</td>\n",
       "      <td>006502097C</td>\n",
       "    </tr>\n",
       "  </tbody>\n",
       "</table>\n",
       "</div>"
      ],
      "text/plain": [
       "                         name1                                        owner1  \\\n",
       "0  Name:   BARRY MICHAEL SMITH  Owner/Officer:   BARRY MICHAEL SMITH / OWNER   \n",
       "1  Name:   BARRY MICHAEL SMITH  Owner/Officer:   BARRY MICHAEL SMITH / OWNER   \n",
       "2  Name:   BARRY MICHAEL SMITH  Owner/Officer:   BARRY MICHAEL SMITH / OWNER   \n",
       "\n",
       "           status1                                 address1  \\\n",
       "0  Status:  Active  [4501 W CEMETERY RD, CANYON, TX. 79015]   \n",
       "1  Status:  Active  [4501 W CEMETERY RD, CANYON, TX. 79015]   \n",
       "2  Status:  Active  [4501 W CEMETERY RD, CANYON, TX. 79015]   \n",
       "\n",
       "                phone1  \\\n",
       "0  Phone:   8066544404   \n",
       "1  Phone:   8066544404   \n",
       "2  Phone:   8066544404   \n",
       "\n",
       "                                                                            url1  \\\n",
       "0  https://www.tdlr.texas.gov/tools_search/mccs_display.asp?mcrnumber=006507931C   \n",
       "1  https://www.tdlr.texas.gov/tools_search/mccs_display.asp?mcrnumber=006179570C   \n",
       "2  https://www.tdlr.texas.gov/tools_search/mccs_display.asp?mcrnumber=006502097C   \n",
       "\n",
       "                          name  \\\n",
       "0  Name:   AUGUSTUS E SMITH      \n",
       "1  Name:   B.D. SMITH TOWING     \n",
       "2  Name:   BARRY MICHAEL SMITH   \n",
       "\n",
       "                                            owner            status  \\\n",
       "0  Owner/Officer:   AUGUSTUS EUGENE SMITH / OWNER  Status:  Active    \n",
       "1  Owner/Officer:   BRANDT SMITH / OWNER           Status:  Expired   \n",
       "2  Owner/Officer:   BARRY MICHAEL SMITH / OWNER    Status:  Active    \n",
       "\n",
       "                                           address                phone  \\\n",
       "0  [1617 COUNTY ROAD 4130, BONHAM, TX. 75418]       Phone:   9032276464   \n",
       "1  [13619 BRETT JACKSON RD, FORT WORTH, TX. 76179]  Phone:   8173330706   \n",
       "2  [4501 W CEMETERY RD, CANYON, TX. 79015]          Phone:   8066544404   \n",
       "\n",
       "  TDLR Number  \n",
       "0  006507931C  \n",
       "1  006179570C  \n",
       "2  006502097C  "
      ]
     },
     "execution_count": 267,
     "metadata": {},
     "output_type": "execute_result"
    }
   ],
   "source": [
    "new_df_plus_url = df.apply(add_url, axis=1).join(new_df)\n",
    "new_df_plus_url.head()"
   ]
  },
  {
   "cell_type": "markdown",
   "metadata": {},
   "source": [
    "# Go through each row of the dataset, printing out information about each tow truck company.\n",
    "\n",
    "#Now will be scraping inside of your function.\n",
    "\n",
    "#The business name\n",
    "Owner/operator\n",
    "Phone number\n",
    "License status (Active, Expired, Etc)\n",
    "Physical address\n",
    "Just print it out for now.\n",
    "\n",
    "TIP: use .apply\n",
    "TIP: You'll be using the code you wrote before, but converted into a function\n",
    "TIP: Remember how the TDLR Number is in the URL? You don't need to do the form submission if you don't want!\n",
    "TIP: Make sure you adjust any variables so you don't scrape the same page again and again"
   ]
  },
  {
   "cell_type": "code",
   "execution_count": 247,
   "metadata": {},
   "outputs": [],
   "source": [
    "def  truck_company_info(row): \n",
    "    \n",
    "    contractors = driver.find_elements_by_tag_name('tr')\n",
    "    \n",
    "    for contractor in contractors:\n",
    "\n",
    "        cont_name = contractors[4].find_elements_by_tag_name('td')[0].text\n",
    "        owner_name = contractors[5].find_elements_by_tag_name('td')[0].text\n",
    "        phone_name = contractors[6].find_elements_by_tag_name('td')[0].text\n",
    "        status_status = contractors[7].find_elements_by_tag_name('td')[1].text\n",
    "        address_address = contractors[8].find_elements_by_tag_name('td')[1].text.split(\"\\n\")[-6:7]\n",
    "        url = str(\"https://www.tdlr.texas.gov/tools_search/mccs_display.asp?mcrnumber=\" + row['TDLR Number'])\n",
    "    \n",
    "    return cont_name, owner_name, phone_name, status_status, address_address, url"
   ]
  },
  {
   "cell_type": "code",
   "execution_count": 248,
   "metadata": {},
   "outputs": [
    {
     "data": {
      "text/plain": [
       "0    (Name:   BARRY MICHAEL SMITH, Owner/Officer:   BARRY MICHAEL SMITH / OWNER, Phone:   8066544404, Status:  Active, [4501 W CEMETERY RD, CANYON, TX. 79015], https://www.tdlr.texas.gov/tools_search/mccs_display.asp?mcrnumber=006507931C)\n",
       "1    (Name:   BARRY MICHAEL SMITH, Owner/Officer:   BARRY MICHAEL SMITH / OWNER, Phone:   8066544404, Status:  Active, [4501 W CEMETERY RD, CANYON, TX. 79015], https://www.tdlr.texas.gov/tools_search/mccs_display.asp?mcrnumber=006179570C)\n",
       "2    (Name:   BARRY MICHAEL SMITH, Owner/Officer:   BARRY MICHAEL SMITH / OWNER, Phone:   8066544404, Status:  Active, [4501 W CEMETERY RD, CANYON, TX. 79015], https://www.tdlr.texas.gov/tools_search/mccs_display.asp?mcrnumber=006502097C)\n",
       "dtype: object"
      ]
     },
     "execution_count": 248,
     "metadata": {},
     "output_type": "execute_result"
    }
   ],
   "source": [
    "new_df_plus_url.apply(truck_company_info, axis=1)"
   ]
  },
  {
   "cell_type": "markdown",
   "metadata": {},
   "source": [
    "## Scrape the following information for each row of the dataset, and save it into new columns in your dataframe.\n",
    "\n",
    "- The business name\n",
    "- Owner/operator\n",
    "- Phone number\n",
    "- License status (Active, Expired, Etc)\n",
    "- Physical address\n",
    "\n",
    "It's basically what we did before, but using the function a little differently.\n",
    "\n",
    "- *TIP: Same as above, but you'll be returning a `pd.Series` and the `.apply` line is going to be a lot longer*\n",
    "- *TIP: Save it to a new dataframe!*\n",
    "- *TIP: Make sure you change your `df` variable names correctly if you're cutting and pasting - there are a few so it can get tricky*"
   ]
  },
  {
   "cell_type": "code",
   "execution_count": 268,
   "metadata": {},
   "outputs": [],
   "source": [
    "def  truck_company_info_extended(row): \n",
    "    \n",
    "    contractors = driver.find_elements_by_tag_name('tr')\n",
    "    \n",
    "    for contractor in contractors:\n",
    "\n",
    "        cont_name = contractors[4].find_elements_by_tag_name('td')[0].text\n",
    "        owner_name = contractors[5].find_elements_by_tag_name('td')[0].text\n",
    "        phone_name = contractors[6].find_elements_by_tag_name('td')[0].text\n",
    "        status_status = contractors[7].find_elements_by_tag_name('td')[1].text\n",
    "        address_address = contractors[8].find_elements_by_tag_name('td')[1].text.split(\"\\n\")[-6:7]\n",
    "        url = str(\"https://www.tdlr.texas.gov/tools_search/mccs_display.asp?mcrnumber=\" + row['TDLR Number'])\n",
    "    \n",
    "    return pd.Series({\n",
    "        'name1': cont_name,\n",
    "        'owner1': owner_name,\n",
    "        'status1': status_status,\n",
    "        'address1': address_address,\n",
    "        'phone1': phone_name,\n",
    "        'url1': url})"
   ]
  },
  {
   "cell_type": "code",
   "execution_count": 269,
   "metadata": {},
   "outputs": [],
   "source": [
    "tow_trucks_extended=new_df_plus_url.apply(truck_company_info_extended, axis=1)"
   ]
  },
  {
   "cell_type": "code",
   "execution_count": null,
   "metadata": {},
   "outputs": [],
   "source": []
  },
  {
   "cell_type": "markdown",
   "metadata": {},
   "source": [
    "### Save your dataframe as a CSV named `tow-trucks-extended.csv`"
   ]
  },
  {
   "cell_type": "code",
   "execution_count": 270,
   "metadata": {},
   "outputs": [],
   "source": [
    "tow_trucks_extended.to_csv(\"tow_trucs_extended.csv\", index=False)"
   ]
  },
  {
   "cell_type": "markdown",
   "metadata": {},
   "source": [
    "### Re-open your dataframe to confirm you didn't save any extra weird columns"
   ]
  },
  {
   "cell_type": "code",
   "execution_count": 271,
   "metadata": {},
   "outputs": [
    {
     "data": {
      "text/html": [
       "<div>\n",
       "<style scoped>\n",
       "    .dataframe tbody tr th:only-of-type {\n",
       "        vertical-align: middle;\n",
       "    }\n",
       "\n",
       "    .dataframe tbody tr th {\n",
       "        vertical-align: top;\n",
       "    }\n",
       "\n",
       "    .dataframe thead th {\n",
       "        text-align: right;\n",
       "    }\n",
       "</style>\n",
       "<table border=\"1\" class=\"dataframe\">\n",
       "  <thead>\n",
       "    <tr style=\"text-align: right;\">\n",
       "      <th></th>\n",
       "      <th>name1</th>\n",
       "      <th>owner1</th>\n",
       "      <th>status1</th>\n",
       "      <th>address1</th>\n",
       "      <th>phone1</th>\n",
       "      <th>url1</th>\n",
       "    </tr>\n",
       "  </thead>\n",
       "  <tbody>\n",
       "    <tr>\n",
       "      <th>0</th>\n",
       "      <td>Name:   BARRY MICHAEL SMITH</td>\n",
       "      <td>Owner/Officer:   BARRY MICHAEL SMITH / OWNER</td>\n",
       "      <td>Status:  Active</td>\n",
       "      <td>['4501 W CEMETERY RD', 'CANYON, TX. 79015']</td>\n",
       "      <td>Phone:   8066544404</td>\n",
       "      <td>https://www.tdlr.texas.gov/tools_search/mccs_display.asp?mcrnumber=006507931C</td>\n",
       "    </tr>\n",
       "    <tr>\n",
       "      <th>1</th>\n",
       "      <td>Name:   BARRY MICHAEL SMITH</td>\n",
       "      <td>Owner/Officer:   BARRY MICHAEL SMITH / OWNER</td>\n",
       "      <td>Status:  Active</td>\n",
       "      <td>['4501 W CEMETERY RD', 'CANYON, TX. 79015']</td>\n",
       "      <td>Phone:   8066544404</td>\n",
       "      <td>https://www.tdlr.texas.gov/tools_search/mccs_display.asp?mcrnumber=006179570C</td>\n",
       "    </tr>\n",
       "    <tr>\n",
       "      <th>2</th>\n",
       "      <td>Name:   BARRY MICHAEL SMITH</td>\n",
       "      <td>Owner/Officer:   BARRY MICHAEL SMITH / OWNER</td>\n",
       "      <td>Status:  Active</td>\n",
       "      <td>['4501 W CEMETERY RD', 'CANYON, TX. 79015']</td>\n",
       "      <td>Phone:   8066544404</td>\n",
       "      <td>https://www.tdlr.texas.gov/tools_search/mccs_display.asp?mcrnumber=006502097C</td>\n",
       "    </tr>\n",
       "  </tbody>\n",
       "</table>\n",
       "</div>"
      ],
      "text/plain": [
       "                         name1                                        owner1  \\\n",
       "0  Name:   BARRY MICHAEL SMITH  Owner/Officer:   BARRY MICHAEL SMITH / OWNER   \n",
       "1  Name:   BARRY MICHAEL SMITH  Owner/Officer:   BARRY MICHAEL SMITH / OWNER   \n",
       "2  Name:   BARRY MICHAEL SMITH  Owner/Officer:   BARRY MICHAEL SMITH / OWNER   \n",
       "\n",
       "           status1                                     address1  \\\n",
       "0  Status:  Active  ['4501 W CEMETERY RD', 'CANYON, TX. 79015']   \n",
       "1  Status:  Active  ['4501 W CEMETERY RD', 'CANYON, TX. 79015']   \n",
       "2  Status:  Active  ['4501 W CEMETERY RD', 'CANYON, TX. 79015']   \n",
       "\n",
       "                phone1  \\\n",
       "0  Phone:   8066544404   \n",
       "1  Phone:   8066544404   \n",
       "2  Phone:   8066544404   \n",
       "\n",
       "                                                                            url1  \n",
       "0  https://www.tdlr.texas.gov/tools_search/mccs_display.asp?mcrnumber=006507931C  \n",
       "1  https://www.tdlr.texas.gov/tools_search/mccs_display.asp?mcrnumber=006179570C  \n",
       "2  https://www.tdlr.texas.gov/tools_search/mccs_display.asp?mcrnumber=006502097C  "
      ]
     },
     "execution_count": 271,
     "metadata": {},
     "output_type": "execute_result"
    }
   ],
   "source": [
    "pd.read_csv(\"tow_trucs_extended.csv\")"
   ]
  },
  {
   "cell_type": "markdown",
   "metadata": {},
   "source": [
    "## Process the entire `tow-trucks.csv` file\n",
    "\n",
    "We just did it on a short subset so far. Now try it on all of the tow trucks. **Save as the same filename as before**"
   ]
  },
  {
   "cell_type": "code",
   "execution_count": null,
   "metadata": {},
   "outputs": [],
   "source": []
  },
  {
   "cell_type": "code",
   "execution_count": null,
   "metadata": {},
   "outputs": [],
   "source": []
  },
  {
   "cell_type": "code",
   "execution_count": null,
   "metadata": {},
   "outputs": [],
   "source": []
  }
 ],
 "metadata": {
  "kernelspec": {
   "display_name": "Python 3",
   "language": "python",
   "name": "python3"
  },
  "language_info": {
   "codemirror_mode": {
    "name": "ipython",
    "version": 3
   },
   "file_extension": ".py",
   "mimetype": "text/x-python",
   "name": "python",
   "nbconvert_exporter": "python",
   "pygments_lexer": "ipython3",
   "version": "3.6.5"
  }
 },
 "nbformat": 4,
 "nbformat_minor": 2
}
